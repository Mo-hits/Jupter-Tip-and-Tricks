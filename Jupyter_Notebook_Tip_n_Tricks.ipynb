{
 "cells": [
  {
   "cell_type": "markdown",
   "id": "f0dd09c7",
   "metadata": {},
   "source": [
    "# Tips and Tricks for Jupyter Notebook "
   ]
  },
  {
   "cell_type": "markdown",
   "id": "d3c5baca",
   "metadata": {},
   "source": [
    "</br>"
   ]
  },
  {
   "cell_type": "markdown",
   "id": "53291abb",
   "metadata": {},
   "source": [
    "### 1. Run terminal commands in jupyter notebook."
   ]
  },
  {
   "cell_type": "markdown",
   "id": "3d62fa2a",
   "metadata": {},
   "source": [
    "#### --> use \"!\" marks before your commands to let jupter know it's a bash command.\n",
    "#### Examples :\n"
   ]
  },
  {
   "cell_type": "code",
   "execution_count": 1,
   "id": "7cb68457",
   "metadata": {},
   "outputs": [
    {
     "name": "stdout",
     "output_type": "stream",
     "text": [
      "Collecting seaborn\n",
      "  Downloading seaborn-0.11.2-py3-none-any.whl (292 kB)\n",
      "\u001b[K     |████████████████████████████████| 292 kB 7.3 MB/s eta 0:00:01\n",
      "\u001b[?25hRequirement already satisfied: pandas>=0.23 in /home/mohwits/miniconda3/envs/ml/lib/python3.9/site-packages (from seaborn) (1.4.2)\n",
      "Requirement already satisfied: numpy>=1.15 in /home/mohwits/miniconda3/envs/ml/lib/python3.9/site-packages (from seaborn) (1.22.4)\n",
      "Collecting scipy>=1.0\n",
      "  Downloading scipy-1.9.1-cp39-cp39-manylinux_2_17_x86_64.manylinux2014_x86_64.whl (43.9 MB)\n",
      "\u001b[K     |████████████████████████████████| 43.9 MB 3.3 MB/s eta 0:00:01\n",
      "\u001b[?25hRequirement already satisfied: matplotlib>=2.2 in /home/mohwits/miniconda3/envs/ml/lib/python3.9/site-packages (from seaborn) (3.5.2)\n",
      "Requirement already satisfied: python-dateutil>=2.7 in /home/mohwits/miniconda3/envs/ml/lib/python3.9/site-packages (from matplotlib>=2.2->seaborn) (2.8.2)\n",
      "Requirement already satisfied: pillow>=6.2.0 in /home/mohwits/miniconda3/envs/ml/lib/python3.9/site-packages (from matplotlib>=2.2->seaborn) (9.2.0)\n",
      "Requirement already satisfied: cycler>=0.10 in /home/mohwits/miniconda3/envs/ml/lib/python3.9/site-packages (from matplotlib>=2.2->seaborn) (0.11.0)\n",
      "Requirement already satisfied: pyparsing>=2.2.1 in /home/mohwits/miniconda3/envs/ml/lib/python3.9/site-packages (from matplotlib>=2.2->seaborn) (3.0.9)\n",
      "Requirement already satisfied: kiwisolver>=1.0.1 in /home/mohwits/miniconda3/envs/ml/lib/python3.9/site-packages (from matplotlib>=2.2->seaborn) (1.4.4)\n",
      "Requirement already satisfied: packaging>=20.0 in /home/mohwits/miniconda3/envs/ml/lib/python3.9/site-packages (from matplotlib>=2.2->seaborn) (21.3)\n",
      "Requirement already satisfied: fonttools>=4.22.0 in /home/mohwits/miniconda3/envs/ml/lib/python3.9/site-packages (from matplotlib>=2.2->seaborn) (4.34.4)\n",
      "Requirement already satisfied: pytz>=2020.1 in /home/mohwits/miniconda3/envs/ml/lib/python3.9/site-packages (from pandas>=0.23->seaborn) (2022.1)\n",
      "Requirement already satisfied: six>=1.5 in /home/mohwits/miniconda3/envs/ml/lib/python3.9/site-packages (from python-dateutil>=2.7->matplotlib>=2.2->seaborn) (1.16.0)\n",
      "Installing collected packages: scipy, seaborn\n",
      "Successfully installed scipy-1.9.1 seaborn-0.11.2\n"
     ]
    }
   ],
   "source": [
    "!pip install seaborn #to install a package\n",
    "# Note: you may need to restart the kernel to use updated packages."
   ]
  },
  {
   "cell_type": "code",
   "execution_count": 2,
   "id": "f45efc90",
   "metadata": {},
   "outputs": [
    {
     "name": "stdout",
     "output_type": "stream",
     "text": [
      "Canada.xlsx\r\n",
      "DV0101EN-Exercise-Area-Plots-Histograms-and-Bar-Charts.ipynb\r\n",
      "DV0101EN-Exercise-Introduction-to-Matplotlib-and-Line-Plots.ipynb\r\n",
      "DV0101EN-Exercise-Waffle-Charts-Word-Clouds-and-Regression-Plots.ipynb\r\n",
      "Extracting_Stock_Data.ipynb\r\n",
      "Untitled1.ipynb\r\n",
      "Untitled2.ipynb\r\n",
      "Untitled3.ipynb\r\n",
      "Untitled4.ipynb\r\n",
      "Untitled.ipynb\r\n"
     ]
    }
   ],
   "source": [
    "!ls #to list all items of your current directory"
   ]
  },
  {
   "cell_type": "markdown",
   "id": "dffb7715",
   "metadata": {},
   "source": [
    "</br>"
   ]
  },
  {
   "cell_type": "markdown",
   "id": "7d6ae56f",
   "metadata": {},
   "source": [
    "### 2. Shortcuts in Jupyter Notebook"
   ]
  },
  {
   "cell_type": "markdown",
   "id": "325a448b",
   "metadata": {},
   "source": [
    "#### Note: You need to hit \"Esc\" before running shortcuts\n",
    "    M: switch to markdown </br>\n",
    "    A: create a empty cell above the current cell </br>\n",
    "    B: create an empty cell below the current cell </br>\n",
    "    D+D: Delete the current cell </br>\n",
    "    Y: switch to code (from markdown) </br>"
   ]
  },
  {
   "cell_type": "markdown",
   "id": "60a1c892",
   "metadata": {},
   "source": [
    "#### Other shortcuts:\n",
    "    Ctrl + Enter: to run and stay on the cell </br>\n",
    "    Shift + Enter: run cell and go the the next cell </br>"
   ]
  },
  {
   "cell_type": "markdown",
   "id": "76f60c0d",
   "metadata": {},
   "source": [
    "</br>"
   ]
  },
  {
   "cell_type": "markdown",
   "id": "93f9bb92",
   "metadata": {},
   "source": [
    "### 3. Changing Pandas Display Options"
   ]
  },
  {
   "cell_type": "code",
   "execution_count": 3,
   "id": "47f08ef5",
   "metadata": {},
   "outputs": [],
   "source": [
    "import pandas as pd"
   ]
  },
  {
   "cell_type": "code",
   "execution_count": null,
   "id": "07030cbd",
   "metadata": {},
   "outputs": [],
   "source": [
    "df = pd.read_csv('social-media-data-all.csv')"
   ]
  },
  {
   "cell_type": "markdown",
   "id": "4cc33ba2",
   "metadata": {},
   "source": [
    "##### To set display options:"
   ]
  },
  {
   "cell_type": "code",
   "execution_count": 13,
   "id": "8a1a58c0",
   "metadata": {},
   "outputs": [
    {
     "name": "stdout",
     "output_type": "stream",
     "text": [
      "100\n"
     ]
    }
   ],
   "source": [
    "#to check the current maximum rows it display\n",
    "print(pd.options.display.max_rows)\n",
    "\n",
    "#to set it to a new value\n",
    "pd.options.display.max_rows = 100\n",
    "\n",
    "# To reset the max rows\n",
    "pd.reset_option('display.max_rows')"
   ]
  },
  {
   "cell_type": "code",
   "execution_count": 9,
   "id": "de3117ba",
   "metadata": {},
   "outputs": [
    {
     "name": "stdout",
     "output_type": "stream",
     "text": [
      "100\n"
     ]
    }
   ],
   "source": [
    "#to check the current maximum columns it display\n",
    "print(pd.options.display.max_columns)\n",
    "\n",
    "#to set it to a new value\n",
    "pd.options.display.max_columns = 50\n",
    "\n",
    "# To reset the max columns\n",
    "pd.reset_option('display.max_columns')"
   ]
  },
  {
   "cell_type": "code",
   "execution_count": 10,
   "id": "aa5fe0b5",
   "metadata": {},
   "outputs": [
    {
     "data": {
      "text/plain": [
       "50"
      ]
     },
     "execution_count": 10,
     "metadata": {},
     "output_type": "execute_result"
    }
   ],
   "source": [
    "# Changing column width\n",
    "pd.options.display.max_colwidth"
   ]
  },
  {
   "cell_type": "code",
   "execution_count": null,
   "id": "8908b5c0",
   "metadata": {},
   "outputs": [],
   "source": [
    "#Setting the precision for float column\n",
    "pd.options.display.precision"
   ]
  },
  {
   "cell_type": "code",
   "execution_count": 14,
   "id": "1f96a1c1",
   "metadata": {},
   "outputs": [],
   "source": [
    "#Formatting big numbers with comma\n",
    "pd.set_option('display.float_format',  '{:,}'.format)\n",
    "\n",
    "#Setting decimal format\n",
    "pd.set_option('display.float_format',  '{:,.2f}'.format)"
   ]
  },
  {
   "cell_type": "code",
   "execution_count": null,
   "id": "9e35f5d9",
   "metadata": {},
   "outputs": [],
   "source": [
    "#Formatting with a percent sign\n",
    "pd.set_option('display.float_format', '{:.2f}%'.format)\n",
    "\n",
    "#Formatting with a dollar sign\n",
    "pd.set_option('display.float_format', '${:.2f}'.format)"
   ]
  },
  {
   "cell_type": "markdown",
   "id": "dc521573",
   "metadata": {},
   "source": [
    "</br>"
   ]
  },
  {
   "cell_type": "markdown",
   "id": "058e4efe",
   "metadata": {},
   "source": [
    "### 4. Setting up alerts when cells finished"
   ]
  },
  {
   "cell_type": "code",
   "execution_count": null,
   "id": "6967f544",
   "metadata": {},
   "outputs": [],
   "source": [
    "!pip install jupyternotify"
   ]
  },
  {
   "cell_type": "code",
   "execution_count": null,
   "id": "f71a0f05",
   "metadata": {},
   "outputs": [],
   "source": [
    "%%notify\n",
    "\n",
    "# Imagine replacing below code with ML model training\n",
    "import time\n",
    "import random\n",
    "\n",
    "r = random.randint(30, 60)\n",
    "time.sleep(r)\n",
    "\n",
    "print(\"Cell finished executed\")"
   ]
  },
  {
   "cell_type": "markdown",
   "id": "3b74b3c2",
   "metadata": {},
   "source": [
    "</br>"
   ]
  },
  {
   "cell_type": "markdown",
   "id": "4da0f829",
   "metadata": {},
   "source": [
    "### 5.Create a slideshow out of your notebook"
   ]
  },
  {
   "cell_type": "markdown",
   "id": "d1eee724",
   "metadata": {},
   "source": [
    "##### view --> cell toolbar --> slideshow </br>\n",
    "\n",
    "Slides - Main option </br>\n",
    "Sub-slide - fill full screen </br>\n",
    "Fragments - underneath slide/sub-slide add additional information </br>\n",
    "Skip - don't include cell </br>\n",
    "Notes - don't include cell </br>"
   ]
  },
  {
   "cell_type": "markdown",
   "id": "c194805f",
   "metadata": {},
   "source": [
    "</br>"
   ]
  },
  {
   "cell_type": "markdown",
   "id": "89442a6a",
   "metadata": {},
   "source": [
    "### 6. Change jupyter theme"
   ]
  },
  {
   "cell_type": "code",
   "execution_count": null,
   "id": "87a2009e",
   "metadata": {},
   "outputs": [],
   "source": [
    "#Run the following command\n",
    "pip install jupyterthemes"
   ]
  },
  {
   "cell_type": "code",
   "execution_count": null,
   "id": "11ef0fed",
   "metadata": {},
   "outputs": [],
   "source": [
    "#To see all theme options\n",
    "jt -l"
   ]
  },
  {
   "cell_type": "code",
   "execution_count": null,
   "id": "4c1faaf7",
   "metadata": {},
   "outputs": [],
   "source": [
    "#Followed by\n",
    "jt -t monokai"
   ]
  },
  {
   "cell_type": "code",
   "execution_count": null,
   "id": "8d6879a8",
   "metadata": {},
   "outputs": [],
   "source": [
    "#To restore to default theme\n",
    "jt -r"
   ]
  }
 ],
 "metadata": {
  "kernelspec": {
   "display_name": "Python 3 (ipykernel)",
   "language": "python",
   "name": "python3"
  },
  "language_info": {
   "codemirror_mode": {
    "name": "ipython",
    "version": 3
   },
   "file_extension": ".py",
   "mimetype": "text/x-python",
   "name": "python",
   "nbconvert_exporter": "python",
   "pygments_lexer": "ipython3",
   "version": "3.9.6"
  }
 },
 "nbformat": 4,
 "nbformat_minor": 5
}
